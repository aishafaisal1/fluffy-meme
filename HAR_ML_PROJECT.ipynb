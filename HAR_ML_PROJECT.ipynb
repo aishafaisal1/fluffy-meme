{
  "nbformat": 4,
  "nbformat_minor": 0,
  "metadata": {
    "colab": {
      "provenance": []
    },
    "kernelspec": {
      "name": "python3",
      "display_name": "Python 3"
    },
    "language_info": {
      "name": "python"
    }
  },
  "cells": [
    {
      "cell_type": "code",
      "execution_count": 25,
      "metadata": {
        "id": "Fwp5QKkYYz-Y"
      },
      "outputs": [],
      "source": [
        "import pandas as pd\n",
        "import numpy as np \n",
        "from matplotlib import pyplot as plt"
      ]
    },
    {
      "cell_type": "code",
      "source": [
        "from google.colab import drive\n",
        "drive.mount('/content/gdrive')\n",
        "import os\n",
        "os.environ['KAGGLE_CONFIG_DIR'] = \"/content/gdrive/MyDrive/Kaggle\"\n",
        "%cd /content/gdrive/MyDrive/Kaggle"
      ],
      "metadata": {
        "colab": {
          "base_uri": "https://localhost:8080/"
        },
        "id": "ZLfxtSQNbRBC",
        "outputId": "19d344df-02a6-4215-fca1-4be34617ce7d"
      },
      "execution_count": 26,
      "outputs": [
        {
          "output_type": "stream",
          "name": "stdout",
          "text": [
            "Drive already mounted at /content/gdrive; to attempt to forcibly remount, call drive.mount(\"/content/gdrive\", force_remount=True).\n",
            "/content/gdrive/MyDrive/Kaggle\n"
          ]
        }
      ]
    },
    {
      "cell_type": "code",
      "source": [
        "test_activities=pd.read_csv('/content/gdrive/My Drive/Kaggle/test.csv.zip')\n",
        "print(test_activities.head())"
      ],
      "metadata": {
        "colab": {
          "base_uri": "https://localhost:8080/"
        },
        "id": "l1g9BlpgcRiS",
        "outputId": "9d02228d-93ea-41f9-d704-93dbf463fbb6"
      },
      "execution_count": 27,
      "outputs": [
        {
          "output_type": "stream",
          "name": "stdout",
          "text": [
            "   tBodyAcc-mean()-X  tBodyAcc-mean()-Y  tBodyAcc-mean()-Z  tBodyAcc-std()-X  \\\n",
            "0           0.257178          -0.023285          -0.014654         -0.938404   \n",
            "1           0.286027          -0.013163          -0.119083         -0.975415   \n",
            "2           0.275485          -0.026050          -0.118152         -0.993819   \n",
            "3           0.270298          -0.032614          -0.117520         -0.994743   \n",
            "4           0.274833          -0.027848          -0.129527         -0.993852   \n",
            "\n",
            "   tBodyAcc-std()-Y  tBodyAcc-std()-Z  tBodyAcc-mad()-X  tBodyAcc-mad()-Y  \\\n",
            "0         -0.920091         -0.667683         -0.952501         -0.925249   \n",
            "1         -0.967458         -0.944958         -0.986799         -0.968401   \n",
            "2         -0.969926         -0.962748         -0.994403         -0.970735   \n",
            "3         -0.973268         -0.967091         -0.995274         -0.974471   \n",
            "4         -0.967445         -0.978295         -0.994111         -0.965953   \n",
            "\n",
            "   tBodyAcc-mad()-Z  tBodyAcc-max()-X  ...  fBodyBodyGyroJerkMag-kurtosis()  \\\n",
            "0         -0.674302         -0.894088  ...                        -0.705974   \n",
            "1         -0.945823         -0.894088  ...                        -0.594944   \n",
            "2         -0.963483         -0.939260  ...                        -0.640736   \n",
            "3         -0.968897         -0.938610  ...                        -0.736124   \n",
            "4         -0.977346         -0.938610  ...                        -0.846595   \n",
            "\n",
            "   angle(tBodyAccMean,gravity)  angle(tBodyAccJerkMean),gravityMean)  \\\n",
            "0                     0.006462                              0.162920   \n",
            "1                    -0.083495                              0.017500   \n",
            "2                    -0.034956                              0.202302   \n",
            "3                    -0.017067                              0.154438   \n",
            "4                    -0.002223                             -0.040046   \n",
            "\n",
            "   angle(tBodyGyroMean,gravityMean)  angle(tBodyGyroJerkMean,gravityMean)  \\\n",
            "0                         -0.825886                              0.271151   \n",
            "1                         -0.434375                              0.920593   \n",
            "2                          0.064103                              0.145068   \n",
            "3                          0.340134                              0.296407   \n",
            "4                          0.736715                             -0.118545   \n",
            "\n",
            "   angle(X,gravityMean)  angle(Y,gravityMean)  angle(Z,gravityMean)  subject  \\\n",
            "0             -0.720009              0.276801             -0.057978        2   \n",
            "1             -0.698091              0.281343             -0.083898        2   \n",
            "2             -0.702771              0.280083             -0.079346        2   \n",
            "3             -0.698954              0.284114             -0.077108        2   \n",
            "4             -0.692245              0.290722             -0.073857        2   \n",
            "\n",
            "   Activity  \n",
            "0  STANDING  \n",
            "1  STANDING  \n",
            "2  STANDING  \n",
            "3  STANDING  \n",
            "4  STANDING  \n",
            "\n",
            "[5 rows x 563 columns]\n"
          ]
        }
      ]
    },
    {
      "cell_type": "code",
      "source": [
        "train_activities=pd.read_csv('/content/gdrive/My Drive/Kaggle/train.csv.zip')\n",
        "print(train_activities.head())"
      ],
      "metadata": {
        "colab": {
          "base_uri": "https://localhost:8080/"
        },
        "id": "8OAFv96vcieB",
        "outputId": "a7ab4036-5f37-411e-ddb2-27ee18369dd5"
      },
      "execution_count": 28,
      "outputs": [
        {
          "output_type": "stream",
          "name": "stdout",
          "text": [
            "   tBodyAcc-mean()-X  tBodyAcc-mean()-Y  tBodyAcc-mean()-Z  tBodyAcc-std()-X  \\\n",
            "0           0.288585          -0.020294          -0.132905         -0.995279   \n",
            "1           0.278419          -0.016411          -0.123520         -0.998245   \n",
            "2           0.279653          -0.019467          -0.113462         -0.995380   \n",
            "3           0.279174          -0.026201          -0.123283         -0.996091   \n",
            "4           0.276629          -0.016570          -0.115362         -0.998139   \n",
            "\n",
            "   tBodyAcc-std()-Y  tBodyAcc-std()-Z  tBodyAcc-mad()-X  tBodyAcc-mad()-Y  \\\n",
            "0         -0.983111         -0.913526         -0.995112         -0.983185   \n",
            "1         -0.975300         -0.960322         -0.998807         -0.974914   \n",
            "2         -0.967187         -0.978944         -0.996520         -0.963668   \n",
            "3         -0.983403         -0.990675         -0.997099         -0.982750   \n",
            "4         -0.980817         -0.990482         -0.998321         -0.979672   \n",
            "\n",
            "   tBodyAcc-mad()-Z  tBodyAcc-max()-X  ...  fBodyBodyGyroJerkMag-kurtosis()  \\\n",
            "0         -0.923527         -0.934724  ...                        -0.710304   \n",
            "1         -0.957686         -0.943068  ...                        -0.861499   \n",
            "2         -0.977469         -0.938692  ...                        -0.760104   \n",
            "3         -0.989302         -0.938692  ...                        -0.482845   \n",
            "4         -0.990441         -0.942469  ...                        -0.699205   \n",
            "\n",
            "   angle(tBodyAccMean,gravity)  angle(tBodyAccJerkMean),gravityMean)  \\\n",
            "0                    -0.112754                              0.030400   \n",
            "1                     0.053477                             -0.007435   \n",
            "2                    -0.118559                              0.177899   \n",
            "3                    -0.036788                             -0.012892   \n",
            "4                     0.123320                              0.122542   \n",
            "\n",
            "   angle(tBodyGyroMean,gravityMean)  angle(tBodyGyroJerkMean,gravityMean)  \\\n",
            "0                         -0.464761                             -0.018446   \n",
            "1                         -0.732626                              0.703511   \n",
            "2                          0.100699                              0.808529   \n",
            "3                          0.640011                             -0.485366   \n",
            "4                          0.693578                             -0.615971   \n",
            "\n",
            "   angle(X,gravityMean)  angle(Y,gravityMean)  angle(Z,gravityMean)  subject  \\\n",
            "0             -0.841247              0.179941             -0.058627        1   \n",
            "1             -0.844788              0.180289             -0.054317        1   \n",
            "2             -0.848933              0.180637             -0.049118        1   \n",
            "3             -0.848649              0.181935             -0.047663        1   \n",
            "4             -0.847865              0.185151             -0.043892        1   \n",
            "\n",
            "   Activity  \n",
            "0  STANDING  \n",
            "1  STANDING  \n",
            "2  STANDING  \n",
            "3  STANDING  \n",
            "4  STANDING  \n",
            "\n",
            "[5 rows x 563 columns]\n"
          ]
        }
      ]
    },
    {
      "cell_type": "code",
      "source": [
        "train_data=pd.read_csv('/content/gdrive/My Drive/Kaggle/train.csv.zip')\n",
        "test_data=pd.read_csv('/content/gdrive/My Drive/Kaggle/test.csv.zip')"
      ],
      "metadata": {
        "id": "qHF0xdYgY_8W"
      },
      "execution_count": 29,
      "outputs": []
    },
    {
      "cell_type": "code",
      "source": [
        "train_data"
      ],
      "metadata": {
        "colab": {
          "base_uri": "https://localhost:8080/",
          "height": 504
        },
        "id": "OwY69mfQc9Gv",
        "outputId": "9c10d66d-f91f-4b8d-e9fa-9fc58e8a8372"
      },
      "execution_count": 30,
      "outputs": [
        {
          "output_type": "execute_result",
          "data": {
            "text/plain": [
              "      tBodyAcc-mean()-X  tBodyAcc-mean()-Y  tBodyAcc-mean()-Z  \\\n",
              "0              0.288585          -0.020294          -0.132905   \n",
              "1              0.278419          -0.016411          -0.123520   \n",
              "2              0.279653          -0.019467          -0.113462   \n",
              "3              0.279174          -0.026201          -0.123283   \n",
              "4              0.276629          -0.016570          -0.115362   \n",
              "...                 ...                ...                ...   \n",
              "7347           0.299665          -0.057193          -0.181233   \n",
              "7348           0.273853          -0.007749          -0.147468   \n",
              "7349           0.273387          -0.017011          -0.045022   \n",
              "7350           0.289654          -0.018843          -0.158281   \n",
              "7351           0.351503          -0.012423          -0.203867   \n",
              "\n",
              "      tBodyAcc-std()-X  tBodyAcc-std()-Y  tBodyAcc-std()-Z  tBodyAcc-mad()-X  \\\n",
              "0            -0.995279         -0.983111         -0.913526         -0.995112   \n",
              "1            -0.998245         -0.975300         -0.960322         -0.998807   \n",
              "2            -0.995380         -0.967187         -0.978944         -0.996520   \n",
              "3            -0.996091         -0.983403         -0.990675         -0.997099   \n",
              "4            -0.998139         -0.980817         -0.990482         -0.998321   \n",
              "...                ...               ...               ...               ...   \n",
              "7347         -0.195387          0.039905          0.077078         -0.282301   \n",
              "7348         -0.235309          0.004816          0.059280         -0.322552   \n",
              "7349         -0.218218         -0.103822          0.274533         -0.304515   \n",
              "7350         -0.219139         -0.111412          0.268893         -0.310487   \n",
              "7351         -0.269270         -0.087212          0.177404         -0.377404   \n",
              "\n",
              "      tBodyAcc-mad()-Y  tBodyAcc-mad()-Z  tBodyAcc-max()-X  ...  \\\n",
              "0            -0.983185         -0.923527         -0.934724  ...   \n",
              "1            -0.974914         -0.957686         -0.943068  ...   \n",
              "2            -0.963668         -0.977469         -0.938692  ...   \n",
              "3            -0.982750         -0.989302         -0.938692  ...   \n",
              "4            -0.979672         -0.990441         -0.942469  ...   \n",
              "...                ...               ...               ...  ...   \n",
              "7347          0.043616          0.060410          0.210795  ...   \n",
              "7348         -0.029456          0.080585          0.117440  ...   \n",
              "7349         -0.098913          0.332584          0.043999  ...   \n",
              "7350         -0.068200          0.319473          0.101702  ...   \n",
              "7351         -0.038678          0.229430          0.269013  ...   \n",
              "\n",
              "      fBodyBodyGyroJerkMag-kurtosis()  angle(tBodyAccMean,gravity)  \\\n",
              "0                           -0.710304                    -0.112754   \n",
              "1                           -0.861499                     0.053477   \n",
              "2                           -0.760104                    -0.118559   \n",
              "3                           -0.482845                    -0.036788   \n",
              "4                           -0.699205                     0.123320   \n",
              "...                               ...                          ...   \n",
              "7347                        -0.880324                    -0.190437   \n",
              "7348                        -0.680744                     0.064907   \n",
              "7349                        -0.304029                     0.052806   \n",
              "7350                        -0.344314                    -0.101360   \n",
              "7351                        -0.740738                    -0.280088   \n",
              "\n",
              "      angle(tBodyAccJerkMean),gravityMean)  angle(tBodyGyroMean,gravityMean)  \\\n",
              "0                                 0.030400                         -0.464761   \n",
              "1                                -0.007435                         -0.732626   \n",
              "2                                 0.177899                          0.100699   \n",
              "3                                -0.012892                          0.640011   \n",
              "4                                 0.122542                          0.693578   \n",
              "...                                    ...                               ...   \n",
              "7347                              0.829718                          0.206972   \n",
              "7348                              0.875679                         -0.879033   \n",
              "7349                             -0.266724                          0.864404   \n",
              "7350                              0.700740                          0.936674   \n",
              "7351                             -0.007739                         -0.056088   \n",
              "\n",
              "      angle(tBodyGyroJerkMean,gravityMean)  angle(X,gravityMean)  \\\n",
              "0                                -0.018446             -0.841247   \n",
              "1                                 0.703511             -0.844788   \n",
              "2                                 0.808529             -0.848933   \n",
              "3                                -0.485366             -0.848649   \n",
              "4                                -0.615971             -0.847865   \n",
              "...                                    ...                   ...   \n",
              "7347                             -0.425619             -0.791883   \n",
              "7348                              0.400219             -0.771840   \n",
              "7349                              0.701169             -0.779133   \n",
              "7350                             -0.589479             -0.785181   \n",
              "7351                             -0.616956             -0.783267   \n",
              "\n",
              "      angle(Y,gravityMean)  angle(Z,gravityMean)  subject          Activity  \n",
              "0                 0.179941             -0.058627        1          STANDING  \n",
              "1                 0.180289             -0.054317        1          STANDING  \n",
              "2                 0.180637             -0.049118        1          STANDING  \n",
              "3                 0.181935             -0.047663        1          STANDING  \n",
              "4                 0.185151             -0.043892        1          STANDING  \n",
              "...                    ...                   ...      ...               ...  \n",
              "7347              0.238604              0.049819       30  WALKING_UPSTAIRS  \n",
              "7348              0.252676              0.050053       30  WALKING_UPSTAIRS  \n",
              "7349              0.249145              0.040811       30  WALKING_UPSTAIRS  \n",
              "7350              0.246432              0.025339       30  WALKING_UPSTAIRS  \n",
              "7351              0.246809              0.036695       30  WALKING_UPSTAIRS  \n",
              "\n",
              "[7352 rows x 563 columns]"
            ],
            "text/html": [
              "\n",
              "  <div id=\"df-4400f6e3-9b58-4fff-9dbf-debb3a6e0f91\">\n",
              "    <div class=\"colab-df-container\">\n",
              "      <div>\n",
              "<style scoped>\n",
              "    .dataframe tbody tr th:only-of-type {\n",
              "        vertical-align: middle;\n",
              "    }\n",
              "\n",
              "    .dataframe tbody tr th {\n",
              "        vertical-align: top;\n",
              "    }\n",
              "\n",
              "    .dataframe thead th {\n",
              "        text-align: right;\n",
              "    }\n",
              "</style>\n",
              "<table border=\"1\" class=\"dataframe\">\n",
              "  <thead>\n",
              "    <tr style=\"text-align: right;\">\n",
              "      <th></th>\n",
              "      <th>tBodyAcc-mean()-X</th>\n",
              "      <th>tBodyAcc-mean()-Y</th>\n",
              "      <th>tBodyAcc-mean()-Z</th>\n",
              "      <th>tBodyAcc-std()-X</th>\n",
              "      <th>tBodyAcc-std()-Y</th>\n",
              "      <th>tBodyAcc-std()-Z</th>\n",
              "      <th>tBodyAcc-mad()-X</th>\n",
              "      <th>tBodyAcc-mad()-Y</th>\n",
              "      <th>tBodyAcc-mad()-Z</th>\n",
              "      <th>tBodyAcc-max()-X</th>\n",
              "      <th>...</th>\n",
              "      <th>fBodyBodyGyroJerkMag-kurtosis()</th>\n",
              "      <th>angle(tBodyAccMean,gravity)</th>\n",
              "      <th>angle(tBodyAccJerkMean),gravityMean)</th>\n",
              "      <th>angle(tBodyGyroMean,gravityMean)</th>\n",
              "      <th>angle(tBodyGyroJerkMean,gravityMean)</th>\n",
              "      <th>angle(X,gravityMean)</th>\n",
              "      <th>angle(Y,gravityMean)</th>\n",
              "      <th>angle(Z,gravityMean)</th>\n",
              "      <th>subject</th>\n",
              "      <th>Activity</th>\n",
              "    </tr>\n",
              "  </thead>\n",
              "  <tbody>\n",
              "    <tr>\n",
              "      <th>0</th>\n",
              "      <td>0.288585</td>\n",
              "      <td>-0.020294</td>\n",
              "      <td>-0.132905</td>\n",
              "      <td>-0.995279</td>\n",
              "      <td>-0.983111</td>\n",
              "      <td>-0.913526</td>\n",
              "      <td>-0.995112</td>\n",
              "      <td>-0.983185</td>\n",
              "      <td>-0.923527</td>\n",
              "      <td>-0.934724</td>\n",
              "      <td>...</td>\n",
              "      <td>-0.710304</td>\n",
              "      <td>-0.112754</td>\n",
              "      <td>0.030400</td>\n",
              "      <td>-0.464761</td>\n",
              "      <td>-0.018446</td>\n",
              "      <td>-0.841247</td>\n",
              "      <td>0.179941</td>\n",
              "      <td>-0.058627</td>\n",
              "      <td>1</td>\n",
              "      <td>STANDING</td>\n",
              "    </tr>\n",
              "    <tr>\n",
              "      <th>1</th>\n",
              "      <td>0.278419</td>\n",
              "      <td>-0.016411</td>\n",
              "      <td>-0.123520</td>\n",
              "      <td>-0.998245</td>\n",
              "      <td>-0.975300</td>\n",
              "      <td>-0.960322</td>\n",
              "      <td>-0.998807</td>\n",
              "      <td>-0.974914</td>\n",
              "      <td>-0.957686</td>\n",
              "      <td>-0.943068</td>\n",
              "      <td>...</td>\n",
              "      <td>-0.861499</td>\n",
              "      <td>0.053477</td>\n",
              "      <td>-0.007435</td>\n",
              "      <td>-0.732626</td>\n",
              "      <td>0.703511</td>\n",
              "      <td>-0.844788</td>\n",
              "      <td>0.180289</td>\n",
              "      <td>-0.054317</td>\n",
              "      <td>1</td>\n",
              "      <td>STANDING</td>\n",
              "    </tr>\n",
              "    <tr>\n",
              "      <th>2</th>\n",
              "      <td>0.279653</td>\n",
              "      <td>-0.019467</td>\n",
              "      <td>-0.113462</td>\n",
              "      <td>-0.995380</td>\n",
              "      <td>-0.967187</td>\n",
              "      <td>-0.978944</td>\n",
              "      <td>-0.996520</td>\n",
              "      <td>-0.963668</td>\n",
              "      <td>-0.977469</td>\n",
              "      <td>-0.938692</td>\n",
              "      <td>...</td>\n",
              "      <td>-0.760104</td>\n",
              "      <td>-0.118559</td>\n",
              "      <td>0.177899</td>\n",
              "      <td>0.100699</td>\n",
              "      <td>0.808529</td>\n",
              "      <td>-0.848933</td>\n",
              "      <td>0.180637</td>\n",
              "      <td>-0.049118</td>\n",
              "      <td>1</td>\n",
              "      <td>STANDING</td>\n",
              "    </tr>\n",
              "    <tr>\n",
              "      <th>3</th>\n",
              "      <td>0.279174</td>\n",
              "      <td>-0.026201</td>\n",
              "      <td>-0.123283</td>\n",
              "      <td>-0.996091</td>\n",
              "      <td>-0.983403</td>\n",
              "      <td>-0.990675</td>\n",
              "      <td>-0.997099</td>\n",
              "      <td>-0.982750</td>\n",
              "      <td>-0.989302</td>\n",
              "      <td>-0.938692</td>\n",
              "      <td>...</td>\n",
              "      <td>-0.482845</td>\n",
              "      <td>-0.036788</td>\n",
              "      <td>-0.012892</td>\n",
              "      <td>0.640011</td>\n",
              "      <td>-0.485366</td>\n",
              "      <td>-0.848649</td>\n",
              "      <td>0.181935</td>\n",
              "      <td>-0.047663</td>\n",
              "      <td>1</td>\n",
              "      <td>STANDING</td>\n",
              "    </tr>\n",
              "    <tr>\n",
              "      <th>4</th>\n",
              "      <td>0.276629</td>\n",
              "      <td>-0.016570</td>\n",
              "      <td>-0.115362</td>\n",
              "      <td>-0.998139</td>\n",
              "      <td>-0.980817</td>\n",
              "      <td>-0.990482</td>\n",
              "      <td>-0.998321</td>\n",
              "      <td>-0.979672</td>\n",
              "      <td>-0.990441</td>\n",
              "      <td>-0.942469</td>\n",
              "      <td>...</td>\n",
              "      <td>-0.699205</td>\n",
              "      <td>0.123320</td>\n",
              "      <td>0.122542</td>\n",
              "      <td>0.693578</td>\n",
              "      <td>-0.615971</td>\n",
              "      <td>-0.847865</td>\n",
              "      <td>0.185151</td>\n",
              "      <td>-0.043892</td>\n",
              "      <td>1</td>\n",
              "      <td>STANDING</td>\n",
              "    </tr>\n",
              "    <tr>\n",
              "      <th>...</th>\n",
              "      <td>...</td>\n",
              "      <td>...</td>\n",
              "      <td>...</td>\n",
              "      <td>...</td>\n",
              "      <td>...</td>\n",
              "      <td>...</td>\n",
              "      <td>...</td>\n",
              "      <td>...</td>\n",
              "      <td>...</td>\n",
              "      <td>...</td>\n",
              "      <td>...</td>\n",
              "      <td>...</td>\n",
              "      <td>...</td>\n",
              "      <td>...</td>\n",
              "      <td>...</td>\n",
              "      <td>...</td>\n",
              "      <td>...</td>\n",
              "      <td>...</td>\n",
              "      <td>...</td>\n",
              "      <td>...</td>\n",
              "      <td>...</td>\n",
              "    </tr>\n",
              "    <tr>\n",
              "      <th>7347</th>\n",
              "      <td>0.299665</td>\n",
              "      <td>-0.057193</td>\n",
              "      <td>-0.181233</td>\n",
              "      <td>-0.195387</td>\n",
              "      <td>0.039905</td>\n",
              "      <td>0.077078</td>\n",
              "      <td>-0.282301</td>\n",
              "      <td>0.043616</td>\n",
              "      <td>0.060410</td>\n",
              "      <td>0.210795</td>\n",
              "      <td>...</td>\n",
              "      <td>-0.880324</td>\n",
              "      <td>-0.190437</td>\n",
              "      <td>0.829718</td>\n",
              "      <td>0.206972</td>\n",
              "      <td>-0.425619</td>\n",
              "      <td>-0.791883</td>\n",
              "      <td>0.238604</td>\n",
              "      <td>0.049819</td>\n",
              "      <td>30</td>\n",
              "      <td>WALKING_UPSTAIRS</td>\n",
              "    </tr>\n",
              "    <tr>\n",
              "      <th>7348</th>\n",
              "      <td>0.273853</td>\n",
              "      <td>-0.007749</td>\n",
              "      <td>-0.147468</td>\n",
              "      <td>-0.235309</td>\n",
              "      <td>0.004816</td>\n",
              "      <td>0.059280</td>\n",
              "      <td>-0.322552</td>\n",
              "      <td>-0.029456</td>\n",
              "      <td>0.080585</td>\n",
              "      <td>0.117440</td>\n",
              "      <td>...</td>\n",
              "      <td>-0.680744</td>\n",
              "      <td>0.064907</td>\n",
              "      <td>0.875679</td>\n",
              "      <td>-0.879033</td>\n",
              "      <td>0.400219</td>\n",
              "      <td>-0.771840</td>\n",
              "      <td>0.252676</td>\n",
              "      <td>0.050053</td>\n",
              "      <td>30</td>\n",
              "      <td>WALKING_UPSTAIRS</td>\n",
              "    </tr>\n",
              "    <tr>\n",
              "      <th>7349</th>\n",
              "      <td>0.273387</td>\n",
              "      <td>-0.017011</td>\n",
              "      <td>-0.045022</td>\n",
              "      <td>-0.218218</td>\n",
              "      <td>-0.103822</td>\n",
              "      <td>0.274533</td>\n",
              "      <td>-0.304515</td>\n",
              "      <td>-0.098913</td>\n",
              "      <td>0.332584</td>\n",
              "      <td>0.043999</td>\n",
              "      <td>...</td>\n",
              "      <td>-0.304029</td>\n",
              "      <td>0.052806</td>\n",
              "      <td>-0.266724</td>\n",
              "      <td>0.864404</td>\n",
              "      <td>0.701169</td>\n",
              "      <td>-0.779133</td>\n",
              "      <td>0.249145</td>\n",
              "      <td>0.040811</td>\n",
              "      <td>30</td>\n",
              "      <td>WALKING_UPSTAIRS</td>\n",
              "    </tr>\n",
              "    <tr>\n",
              "      <th>7350</th>\n",
              "      <td>0.289654</td>\n",
              "      <td>-0.018843</td>\n",
              "      <td>-0.158281</td>\n",
              "      <td>-0.219139</td>\n",
              "      <td>-0.111412</td>\n",
              "      <td>0.268893</td>\n",
              "      <td>-0.310487</td>\n",
              "      <td>-0.068200</td>\n",
              "      <td>0.319473</td>\n",
              "      <td>0.101702</td>\n",
              "      <td>...</td>\n",
              "      <td>-0.344314</td>\n",
              "      <td>-0.101360</td>\n",
              "      <td>0.700740</td>\n",
              "      <td>0.936674</td>\n",
              "      <td>-0.589479</td>\n",
              "      <td>-0.785181</td>\n",
              "      <td>0.246432</td>\n",
              "      <td>0.025339</td>\n",
              "      <td>30</td>\n",
              "      <td>WALKING_UPSTAIRS</td>\n",
              "    </tr>\n",
              "    <tr>\n",
              "      <th>7351</th>\n",
              "      <td>0.351503</td>\n",
              "      <td>-0.012423</td>\n",
              "      <td>-0.203867</td>\n",
              "      <td>-0.269270</td>\n",
              "      <td>-0.087212</td>\n",
              "      <td>0.177404</td>\n",
              "      <td>-0.377404</td>\n",
              "      <td>-0.038678</td>\n",
              "      <td>0.229430</td>\n",
              "      <td>0.269013</td>\n",
              "      <td>...</td>\n",
              "      <td>-0.740738</td>\n",
              "      <td>-0.280088</td>\n",
              "      <td>-0.007739</td>\n",
              "      <td>-0.056088</td>\n",
              "      <td>-0.616956</td>\n",
              "      <td>-0.783267</td>\n",
              "      <td>0.246809</td>\n",
              "      <td>0.036695</td>\n",
              "      <td>30</td>\n",
              "      <td>WALKING_UPSTAIRS</td>\n",
              "    </tr>\n",
              "  </tbody>\n",
              "</table>\n",
              "<p>7352 rows × 563 columns</p>\n",
              "</div>\n",
              "      <button class=\"colab-df-convert\" onclick=\"convertToInteractive('df-4400f6e3-9b58-4fff-9dbf-debb3a6e0f91')\"\n",
              "              title=\"Convert this dataframe to an interactive table.\"\n",
              "              style=\"display:none;\">\n",
              "        \n",
              "  <svg xmlns=\"http://www.w3.org/2000/svg\" height=\"24px\"viewBox=\"0 0 24 24\"\n",
              "       width=\"24px\">\n",
              "    <path d=\"M0 0h24v24H0V0z\" fill=\"none\"/>\n",
              "    <path d=\"M18.56 5.44l.94 2.06.94-2.06 2.06-.94-2.06-.94-.94-2.06-.94 2.06-2.06.94zm-11 1L8.5 8.5l.94-2.06 2.06-.94-2.06-.94L8.5 2.5l-.94 2.06-2.06.94zm10 10l.94 2.06.94-2.06 2.06-.94-2.06-.94-.94-2.06-.94 2.06-2.06.94z\"/><path d=\"M17.41 7.96l-1.37-1.37c-.4-.4-.92-.59-1.43-.59-.52 0-1.04.2-1.43.59L10.3 9.45l-7.72 7.72c-.78.78-.78 2.05 0 2.83L4 21.41c.39.39.9.59 1.41.59.51 0 1.02-.2 1.41-.59l7.78-7.78 2.81-2.81c.8-.78.8-2.07 0-2.86zM5.41 20L4 18.59l7.72-7.72 1.47 1.35L5.41 20z\"/>\n",
              "  </svg>\n",
              "      </button>\n",
              "      \n",
              "  <style>\n",
              "    .colab-df-container {\n",
              "      display:flex;\n",
              "      flex-wrap:wrap;\n",
              "      gap: 12px;\n",
              "    }\n",
              "\n",
              "    .colab-df-convert {\n",
              "      background-color: #E8F0FE;\n",
              "      border: none;\n",
              "      border-radius: 50%;\n",
              "      cursor: pointer;\n",
              "      display: none;\n",
              "      fill: #1967D2;\n",
              "      height: 32px;\n",
              "      padding: 0 0 0 0;\n",
              "      width: 32px;\n",
              "    }\n",
              "\n",
              "    .colab-df-convert:hover {\n",
              "      background-color: #E2EBFA;\n",
              "      box-shadow: 0px 1px 2px rgba(60, 64, 67, 0.3), 0px 1px 3px 1px rgba(60, 64, 67, 0.15);\n",
              "      fill: #174EA6;\n",
              "    }\n",
              "\n",
              "    [theme=dark] .colab-df-convert {\n",
              "      background-color: #3B4455;\n",
              "      fill: #D2E3FC;\n",
              "    }\n",
              "\n",
              "    [theme=dark] .colab-df-convert:hover {\n",
              "      background-color: #434B5C;\n",
              "      box-shadow: 0px 1px 3px 1px rgba(0, 0, 0, 0.15);\n",
              "      filter: drop-shadow(0px 1px 2px rgba(0, 0, 0, 0.3));\n",
              "      fill: #FFFFFF;\n",
              "    }\n",
              "  </style>\n",
              "\n",
              "      <script>\n",
              "        const buttonEl =\n",
              "          document.querySelector('#df-4400f6e3-9b58-4fff-9dbf-debb3a6e0f91 button.colab-df-convert');\n",
              "        buttonEl.style.display =\n",
              "          google.colab.kernel.accessAllowed ? 'block' : 'none';\n",
              "\n",
              "        async function convertToInteractive(key) {\n",
              "          const element = document.querySelector('#df-4400f6e3-9b58-4fff-9dbf-debb3a6e0f91');\n",
              "          const dataTable =\n",
              "            await google.colab.kernel.invokeFunction('convertToInteractive',\n",
              "                                                     [key], {});\n",
              "          if (!dataTable) return;\n",
              "\n",
              "          const docLinkHtml = 'Like what you see? Visit the ' +\n",
              "            '<a target=\"_blank\" href=https://colab.research.google.com/notebooks/data_table.ipynb>data table notebook</a>'\n",
              "            + ' to learn more about interactive tables.';\n",
              "          element.innerHTML = '';\n",
              "          dataTable['output_type'] = 'display_data';\n",
              "          await google.colab.output.renderOutput(dataTable, element);\n",
              "          const docLink = document.createElement('div');\n",
              "          docLink.innerHTML = docLinkHtml;\n",
              "          element.appendChild(docLink);\n",
              "        }\n",
              "      </script>\n",
              "    </div>\n",
              "  </div>\n",
              "  "
            ]
          },
          "metadata": {},
          "execution_count": 30
        }
      ]
    },
    {
      "cell_type": "code",
      "source": [
        "train_data.dtypes"
      ],
      "metadata": {
        "colab": {
          "base_uri": "https://localhost:8080/"
        },
        "id": "95gVImarit14",
        "outputId": "02a33c74-a115-416e-cfc9-5472ed50f4ef"
      },
      "execution_count": 31,
      "outputs": [
        {
          "output_type": "execute_result",
          "data": {
            "text/plain": [
              "tBodyAcc-mean()-X       float64\n",
              "tBodyAcc-mean()-Y       float64\n",
              "tBodyAcc-mean()-Z       float64\n",
              "tBodyAcc-std()-X        float64\n",
              "tBodyAcc-std()-Y        float64\n",
              "                         ...   \n",
              "angle(X,gravityMean)    float64\n",
              "angle(Y,gravityMean)    float64\n",
              "angle(Z,gravityMean)    float64\n",
              "subject                   int64\n",
              "Activity                 object\n",
              "Length: 563, dtype: object"
            ]
          },
          "metadata": {},
          "execution_count": 31
        }
      ]
    },
    {
      "cell_type": "code",
      "source": [
        "train_activities['Activity'].value_counts()\n"
      ],
      "metadata": {
        "colab": {
          "base_uri": "https://localhost:8080/"
        },
        "id": "EbLEUTNJdE9_",
        "outputId": "0ee51559-81b7-486e-ae71-7c3f1f975931"
      },
      "execution_count": 32,
      "outputs": [
        {
          "output_type": "execute_result",
          "data": {
            "text/plain": [
              "LAYING                1407\n",
              "STANDING              1374\n",
              "SITTING               1286\n",
              "WALKING               1226\n",
              "WALKING_UPSTAIRS      1073\n",
              "WALKING_DOWNSTAIRS     986\n",
              "Name: Activity, dtype: int64"
            ]
          },
          "metadata": {},
          "execution_count": 32
        }
      ]
    },
    {
      "cell_type": "code",
      "source": [
        "test_data['Activity'].value_counts()\n"
      ],
      "metadata": {
        "colab": {
          "base_uri": "https://localhost:8080/"
        },
        "id": "pechMJ5WdOkY",
        "outputId": "1ecb9884-f570-4b61-8e23-ae5cb0becb39"
      },
      "execution_count": 33,
      "outputs": [
        {
          "output_type": "execute_result",
          "data": {
            "text/plain": [
              "LAYING                537\n",
              "STANDING              532\n",
              "WALKING               496\n",
              "SITTING               491\n",
              "WALKING_UPSTAIRS      471\n",
              "WALKING_DOWNSTAIRS    420\n",
              "Name: Activity, dtype: int64"
            ]
          },
          "metadata": {},
          "execution_count": 33
        }
      ]
    },
    {
      "cell_type": "code",
      "source": [
        "# Findig Null values in train and test data?\n",
        "\n",
        "print('Num of Null values in train_data ==> ',train_data.isnull().values.sum())\n",
        "print('Num of Null values in test_data  ==> ',test_data.isnull().values.sum())"
      ],
      "metadata": {
        "colab": {
          "base_uri": "https://localhost:8080/"
        },
        "id": "13f7KOC5dTc3",
        "outputId": "f85d72a4-bb62-473a-bb70-ccd058e562c0"
      },
      "execution_count": 34,
      "outputs": [
        {
          "output_type": "stream",
          "name": "stdout",
          "text": [
            "Num of Null values in train_data ==>  0\n",
            "Num of Null values in test_data  ==>  0\n"
          ]
        }
      ]
    },
    {
      "cell_type": "code",
      "source": [
        "cat_col = train_data.select_dtypes(include=['object'])\n",
        "cat_col"
      ],
      "metadata": {
        "colab": {
          "base_uri": "https://localhost:8080/",
          "height": 423
        },
        "id": "6CmiN-QUdiAM",
        "outputId": "2f6d7958-c70c-4b6f-c982-b19f47522d9d"
      },
      "execution_count": 35,
      "outputs": [
        {
          "output_type": "execute_result",
          "data": {
            "text/plain": [
              "              Activity\n",
              "0             STANDING\n",
              "1             STANDING\n",
              "2             STANDING\n",
              "3             STANDING\n",
              "4             STANDING\n",
              "...                ...\n",
              "7347  WALKING_UPSTAIRS\n",
              "7348  WALKING_UPSTAIRS\n",
              "7349  WALKING_UPSTAIRS\n",
              "7350  WALKING_UPSTAIRS\n",
              "7351  WALKING_UPSTAIRS\n",
              "\n",
              "[7352 rows x 1 columns]"
            ],
            "text/html": [
              "\n",
              "  <div id=\"df-2a076261-8969-4e02-ae7b-61f51d2de1b7\">\n",
              "    <div class=\"colab-df-container\">\n",
              "      <div>\n",
              "<style scoped>\n",
              "    .dataframe tbody tr th:only-of-type {\n",
              "        vertical-align: middle;\n",
              "    }\n",
              "\n",
              "    .dataframe tbody tr th {\n",
              "        vertical-align: top;\n",
              "    }\n",
              "\n",
              "    .dataframe thead th {\n",
              "        text-align: right;\n",
              "    }\n",
              "</style>\n",
              "<table border=\"1\" class=\"dataframe\">\n",
              "  <thead>\n",
              "    <tr style=\"text-align: right;\">\n",
              "      <th></th>\n",
              "      <th>Activity</th>\n",
              "    </tr>\n",
              "  </thead>\n",
              "  <tbody>\n",
              "    <tr>\n",
              "      <th>0</th>\n",
              "      <td>STANDING</td>\n",
              "    </tr>\n",
              "    <tr>\n",
              "      <th>1</th>\n",
              "      <td>STANDING</td>\n",
              "    </tr>\n",
              "    <tr>\n",
              "      <th>2</th>\n",
              "      <td>STANDING</td>\n",
              "    </tr>\n",
              "    <tr>\n",
              "      <th>3</th>\n",
              "      <td>STANDING</td>\n",
              "    </tr>\n",
              "    <tr>\n",
              "      <th>4</th>\n",
              "      <td>STANDING</td>\n",
              "    </tr>\n",
              "    <tr>\n",
              "      <th>...</th>\n",
              "      <td>...</td>\n",
              "    </tr>\n",
              "    <tr>\n",
              "      <th>7347</th>\n",
              "      <td>WALKING_UPSTAIRS</td>\n",
              "    </tr>\n",
              "    <tr>\n",
              "      <th>7348</th>\n",
              "      <td>WALKING_UPSTAIRS</td>\n",
              "    </tr>\n",
              "    <tr>\n",
              "      <th>7349</th>\n",
              "      <td>WALKING_UPSTAIRS</td>\n",
              "    </tr>\n",
              "    <tr>\n",
              "      <th>7350</th>\n",
              "      <td>WALKING_UPSTAIRS</td>\n",
              "    </tr>\n",
              "    <tr>\n",
              "      <th>7351</th>\n",
              "      <td>WALKING_UPSTAIRS</td>\n",
              "    </tr>\n",
              "  </tbody>\n",
              "</table>\n",
              "<p>7352 rows × 1 columns</p>\n",
              "</div>\n",
              "      <button class=\"colab-df-convert\" onclick=\"convertToInteractive('df-2a076261-8969-4e02-ae7b-61f51d2de1b7')\"\n",
              "              title=\"Convert this dataframe to an interactive table.\"\n",
              "              style=\"display:none;\">\n",
              "        \n",
              "  <svg xmlns=\"http://www.w3.org/2000/svg\" height=\"24px\"viewBox=\"0 0 24 24\"\n",
              "       width=\"24px\">\n",
              "    <path d=\"M0 0h24v24H0V0z\" fill=\"none\"/>\n",
              "    <path d=\"M18.56 5.44l.94 2.06.94-2.06 2.06-.94-2.06-.94-.94-2.06-.94 2.06-2.06.94zm-11 1L8.5 8.5l.94-2.06 2.06-.94-2.06-.94L8.5 2.5l-.94 2.06-2.06.94zm10 10l.94 2.06.94-2.06 2.06-.94-2.06-.94-.94-2.06-.94 2.06-2.06.94z\"/><path d=\"M17.41 7.96l-1.37-1.37c-.4-.4-.92-.59-1.43-.59-.52 0-1.04.2-1.43.59L10.3 9.45l-7.72 7.72c-.78.78-.78 2.05 0 2.83L4 21.41c.39.39.9.59 1.41.59.51 0 1.02-.2 1.41-.59l7.78-7.78 2.81-2.81c.8-.78.8-2.07 0-2.86zM5.41 20L4 18.59l7.72-7.72 1.47 1.35L5.41 20z\"/>\n",
              "  </svg>\n",
              "      </button>\n",
              "      \n",
              "  <style>\n",
              "    .colab-df-container {\n",
              "      display:flex;\n",
              "      flex-wrap:wrap;\n",
              "      gap: 12px;\n",
              "    }\n",
              "\n",
              "    .colab-df-convert {\n",
              "      background-color: #E8F0FE;\n",
              "      border: none;\n",
              "      border-radius: 50%;\n",
              "      cursor: pointer;\n",
              "      display: none;\n",
              "      fill: #1967D2;\n",
              "      height: 32px;\n",
              "      padding: 0 0 0 0;\n",
              "      width: 32px;\n",
              "    }\n",
              "\n",
              "    .colab-df-convert:hover {\n",
              "      background-color: #E2EBFA;\n",
              "      box-shadow: 0px 1px 2px rgba(60, 64, 67, 0.3), 0px 1px 3px 1px rgba(60, 64, 67, 0.15);\n",
              "      fill: #174EA6;\n",
              "    }\n",
              "\n",
              "    [theme=dark] .colab-df-convert {\n",
              "      background-color: #3B4455;\n",
              "      fill: #D2E3FC;\n",
              "    }\n",
              "\n",
              "    [theme=dark] .colab-df-convert:hover {\n",
              "      background-color: #434B5C;\n",
              "      box-shadow: 0px 1px 3px 1px rgba(0, 0, 0, 0.15);\n",
              "      filter: drop-shadow(0px 1px 2px rgba(0, 0, 0, 0.3));\n",
              "      fill: #FFFFFF;\n",
              "    }\n",
              "  </style>\n",
              "\n",
              "      <script>\n",
              "        const buttonEl =\n",
              "          document.querySelector('#df-2a076261-8969-4e02-ae7b-61f51d2de1b7 button.colab-df-convert');\n",
              "        buttonEl.style.display =\n",
              "          google.colab.kernel.accessAllowed ? 'block' : 'none';\n",
              "\n",
              "        async function convertToInteractive(key) {\n",
              "          const element = document.querySelector('#df-2a076261-8969-4e02-ae7b-61f51d2de1b7');\n",
              "          const dataTable =\n",
              "            await google.colab.kernel.invokeFunction('convertToInteractive',\n",
              "                                                     [key], {});\n",
              "          if (!dataTable) return;\n",
              "\n",
              "          const docLinkHtml = 'Like what you see? Visit the ' +\n",
              "            '<a target=\"_blank\" href=https://colab.research.google.com/notebooks/data_table.ipynb>data table notebook</a>'\n",
              "            + ' to learn more about interactive tables.';\n",
              "          element.innerHTML = '';\n",
              "          dataTable['output_type'] = 'display_data';\n",
              "          await google.colab.output.renderOutput(dataTable, element);\n",
              "          const docLink = document.createElement('div');\n",
              "          docLink.innerHTML = docLinkHtml;\n",
              "          element.appendChild(docLink);\n",
              "        }\n",
              "      </script>\n",
              "    </div>\n",
              "  </div>\n",
              "  "
            ]
          },
          "metadata": {},
          "execution_count": 35
        }
      ]
    },
    {
      "cell_type": "code",
      "source": [
        "cat_col = test_data.select_dtypes(include=['object'])\n",
        "cat_col"
      ],
      "metadata": {
        "colab": {
          "base_uri": "https://localhost:8080/",
          "height": 423
        },
        "id": "L-1-ttOmdtza",
        "outputId": "aff4c4b1-16a2-4ca1-c1d1-6fbc269de482"
      },
      "execution_count": 36,
      "outputs": [
        {
          "output_type": "execute_result",
          "data": {
            "text/plain": [
              "              Activity\n",
              "0             STANDING\n",
              "1             STANDING\n",
              "2             STANDING\n",
              "3             STANDING\n",
              "4             STANDING\n",
              "...                ...\n",
              "2942  WALKING_UPSTAIRS\n",
              "2943  WALKING_UPSTAIRS\n",
              "2944  WALKING_UPSTAIRS\n",
              "2945  WALKING_UPSTAIRS\n",
              "2946  WALKING_UPSTAIRS\n",
              "\n",
              "[2947 rows x 1 columns]"
            ],
            "text/html": [
              "\n",
              "  <div id=\"df-8140e892-027a-4f46-bb6d-dcb5a0fa3476\">\n",
              "    <div class=\"colab-df-container\">\n",
              "      <div>\n",
              "<style scoped>\n",
              "    .dataframe tbody tr th:only-of-type {\n",
              "        vertical-align: middle;\n",
              "    }\n",
              "\n",
              "    .dataframe tbody tr th {\n",
              "        vertical-align: top;\n",
              "    }\n",
              "\n",
              "    .dataframe thead th {\n",
              "        text-align: right;\n",
              "    }\n",
              "</style>\n",
              "<table border=\"1\" class=\"dataframe\">\n",
              "  <thead>\n",
              "    <tr style=\"text-align: right;\">\n",
              "      <th></th>\n",
              "      <th>Activity</th>\n",
              "    </tr>\n",
              "  </thead>\n",
              "  <tbody>\n",
              "    <tr>\n",
              "      <th>0</th>\n",
              "      <td>STANDING</td>\n",
              "    </tr>\n",
              "    <tr>\n",
              "      <th>1</th>\n",
              "      <td>STANDING</td>\n",
              "    </tr>\n",
              "    <tr>\n",
              "      <th>2</th>\n",
              "      <td>STANDING</td>\n",
              "    </tr>\n",
              "    <tr>\n",
              "      <th>3</th>\n",
              "      <td>STANDING</td>\n",
              "    </tr>\n",
              "    <tr>\n",
              "      <th>4</th>\n",
              "      <td>STANDING</td>\n",
              "    </tr>\n",
              "    <tr>\n",
              "      <th>...</th>\n",
              "      <td>...</td>\n",
              "    </tr>\n",
              "    <tr>\n",
              "      <th>2942</th>\n",
              "      <td>WALKING_UPSTAIRS</td>\n",
              "    </tr>\n",
              "    <tr>\n",
              "      <th>2943</th>\n",
              "      <td>WALKING_UPSTAIRS</td>\n",
              "    </tr>\n",
              "    <tr>\n",
              "      <th>2944</th>\n",
              "      <td>WALKING_UPSTAIRS</td>\n",
              "    </tr>\n",
              "    <tr>\n",
              "      <th>2945</th>\n",
              "      <td>WALKING_UPSTAIRS</td>\n",
              "    </tr>\n",
              "    <tr>\n",
              "      <th>2946</th>\n",
              "      <td>WALKING_UPSTAIRS</td>\n",
              "    </tr>\n",
              "  </tbody>\n",
              "</table>\n",
              "<p>2947 rows × 1 columns</p>\n",
              "</div>\n",
              "      <button class=\"colab-df-convert\" onclick=\"convertToInteractive('df-8140e892-027a-4f46-bb6d-dcb5a0fa3476')\"\n",
              "              title=\"Convert this dataframe to an interactive table.\"\n",
              "              style=\"display:none;\">\n",
              "        \n",
              "  <svg xmlns=\"http://www.w3.org/2000/svg\" height=\"24px\"viewBox=\"0 0 24 24\"\n",
              "       width=\"24px\">\n",
              "    <path d=\"M0 0h24v24H0V0z\" fill=\"none\"/>\n",
              "    <path d=\"M18.56 5.44l.94 2.06.94-2.06 2.06-.94-2.06-.94-.94-2.06-.94 2.06-2.06.94zm-11 1L8.5 8.5l.94-2.06 2.06-.94-2.06-.94L8.5 2.5l-.94 2.06-2.06.94zm10 10l.94 2.06.94-2.06 2.06-.94-2.06-.94-.94-2.06-.94 2.06-2.06.94z\"/><path d=\"M17.41 7.96l-1.37-1.37c-.4-.4-.92-.59-1.43-.59-.52 0-1.04.2-1.43.59L10.3 9.45l-7.72 7.72c-.78.78-.78 2.05 0 2.83L4 21.41c.39.39.9.59 1.41.59.51 0 1.02-.2 1.41-.59l7.78-7.78 2.81-2.81c.8-.78.8-2.07 0-2.86zM5.41 20L4 18.59l7.72-7.72 1.47 1.35L5.41 20z\"/>\n",
              "  </svg>\n",
              "      </button>\n",
              "      \n",
              "  <style>\n",
              "    .colab-df-container {\n",
              "      display:flex;\n",
              "      flex-wrap:wrap;\n",
              "      gap: 12px;\n",
              "    }\n",
              "\n",
              "    .colab-df-convert {\n",
              "      background-color: #E8F0FE;\n",
              "      border: none;\n",
              "      border-radius: 50%;\n",
              "      cursor: pointer;\n",
              "      display: none;\n",
              "      fill: #1967D2;\n",
              "      height: 32px;\n",
              "      padding: 0 0 0 0;\n",
              "      width: 32px;\n",
              "    }\n",
              "\n",
              "    .colab-df-convert:hover {\n",
              "      background-color: #E2EBFA;\n",
              "      box-shadow: 0px 1px 2px rgba(60, 64, 67, 0.3), 0px 1px 3px 1px rgba(60, 64, 67, 0.15);\n",
              "      fill: #174EA6;\n",
              "    }\n",
              "\n",
              "    [theme=dark] .colab-df-convert {\n",
              "      background-color: #3B4455;\n",
              "      fill: #D2E3FC;\n",
              "    }\n",
              "\n",
              "    [theme=dark] .colab-df-convert:hover {\n",
              "      background-color: #434B5C;\n",
              "      box-shadow: 0px 1px 3px 1px rgba(0, 0, 0, 0.15);\n",
              "      filter: drop-shadow(0px 1px 2px rgba(0, 0, 0, 0.3));\n",
              "      fill: #FFFFFF;\n",
              "    }\n",
              "  </style>\n",
              "\n",
              "      <script>\n",
              "        const buttonEl =\n",
              "          document.querySelector('#df-8140e892-027a-4f46-bb6d-dcb5a0fa3476 button.colab-df-convert');\n",
              "        buttonEl.style.display =\n",
              "          google.colab.kernel.accessAllowed ? 'block' : 'none';\n",
              "\n",
              "        async function convertToInteractive(key) {\n",
              "          const element = document.querySelector('#df-8140e892-027a-4f46-bb6d-dcb5a0fa3476');\n",
              "          const dataTable =\n",
              "            await google.colab.kernel.invokeFunction('convertToInteractive',\n",
              "                                                     [key], {});\n",
              "          if (!dataTable) return;\n",
              "\n",
              "          const docLinkHtml = 'Like what you see? Visit the ' +\n",
              "            '<a target=\"_blank\" href=https://colab.research.google.com/notebooks/data_table.ipynb>data table notebook</a>'\n",
              "            + ' to learn more about interactive tables.';\n",
              "          element.innerHTML = '';\n",
              "          dataTable['output_type'] = 'display_data';\n",
              "          await google.colab.output.renderOutput(dataTable, element);\n",
              "          const docLink = document.createElement('div');\n",
              "          docLink.innerHTML = docLinkHtml;\n",
              "          element.appendChild(docLink);\n",
              "        }\n",
              "      </script>\n",
              "    </div>\n",
              "  </div>\n",
              "  "
            ]
          },
          "metadata": {},
          "execution_count": 36
        }
      ]
    },
    {
      "cell_type": "code",
      "source": [
        "from sklearn.model_selection import train_test_split\n",
        "from sklearn.metrics import classification_report,accuracy_score\n",
        "from sklearn import preprocessing # used for encoding\n",
        "\n",
        "Y = train_data['Activity']\n",
        "X = train_data.drop(columns=['Activity','subject'])\n",
        "\n",
        "x_train, x_test, y_train, y_test = train_test_split(X,Y,test_size=0.2)"
      ],
      "metadata": {
        "id": "gS7jktNwd1fZ"
      },
      "execution_count": 37,
      "outputs": []
    },
    {
      "cell_type": "code",
      "source": [
        "le = preprocessing.LabelEncoder()\n",
        "\n",
        "Y_test_df = test_data['Activity']\n",
        "X_test_df = test_data.drop(columns=['Activity','subject'])\n",
        "\n",
        "y_train_enc =  le.fit_transform(y_train)\n",
        "y_test_enc = le.transform(y_test) # This is so that the same numbers remain for all the next and do not change them fit transform we did not use \n",
        "Y_test_df_enc = le.transform(Y_test_df)"
      ],
      "metadata": {
        "id": "39xzWkj0eDUk"
      },
      "execution_count": 38,
      "outputs": []
    },
    {
      "cell_type": "code",
      "source": [
        "le.inverse_transform([0,1,2,3,4,5])\n",
        "\n",
        "# By compensating only for each class with a number in order to make it easier to calculate\n"
      ],
      "metadata": {
        "colab": {
          "base_uri": "https://localhost:8080/"
        },
        "id": "yKn6nJhief2S",
        "outputId": "6bd2215a-e89d-49a0-a86b-6782adfed499"
      },
      "execution_count": 39,
      "outputs": [
        {
          "output_type": "execute_result",
          "data": {
            "text/plain": [
              "array(['LAYING', 'SITTING', 'STANDING', 'WALKING', 'WALKING_DOWNSTAIRS',\n",
              "       'WALKING_UPSTAIRS'], dtype=object)"
            ]
          },
          "metadata": {},
          "execution_count": 39
        }
      ]
    },
    {
      "cell_type": "code",
      "source": [
        "from sklearn.neighbors import KNeighborsClassifier"
      ],
      "metadata": {
        "id": "nAHsVPtWrEDf"
      },
      "execution_count": 40,
      "outputs": []
    },
    {
      "cell_type": "markdown",
      "source": [
        "# YAHAN PR KNN"
      ],
      "metadata": {
        "id": "OkIZDG6TxagM"
      }
    },
    {
      "cell_type": "code",
      "source": [
        "knn = KNeighborsClassifier()"
      ],
      "metadata": {
        "id": "wrYdLxUIrU-U"
      },
      "execution_count": 41,
      "outputs": []
    },
    {
      "cell_type": "code",
      "source": [
        "knn.fit(x_train, y_train_enc)"
      ],
      "metadata": {
        "colab": {
          "base_uri": "https://localhost:8080/"
        },
        "id": "PGRPqPTgrZUR",
        "outputId": "18f8fe3a-3362-4727-81d9-89d30de75616"
      },
      "execution_count": 42,
      "outputs": [
        {
          "output_type": "execute_result",
          "data": {
            "text/plain": [
              "KNeighborsClassifier()"
            ]
          },
          "metadata": {},
          "execution_count": 42
        }
      ]
    },
    {
      "cell_type": "code",
      "source": [
        "y_pred = knn.predict(x_test)"
      ],
      "metadata": {
        "id": "2Elm-8idte4f"
      },
      "execution_count": 43,
      "outputs": []
    },
    {
      "cell_type": "code",
      "source": [
        "accuracy_score(y_test_enc, y_pred)"
      ],
      "metadata": {
        "colab": {
          "base_uri": "https://localhost:8080/"
        },
        "id": "MFhjwfBytpM9",
        "outputId": "7ca49eec-44e8-4e9d-d4d8-b72f0aa036ec"
      },
      "execution_count": 44,
      "outputs": [
        {
          "output_type": "execute_result",
          "data": {
            "text/plain": [
              "0.9666893269884432"
            ]
          },
          "metadata": {},
          "execution_count": 44
        }
      ]
    },
    {
      "cell_type": "code",
      "source": [
        "print(classification_report(y_test_enc, y_pred))"
      ],
      "metadata": {
        "colab": {
          "base_uri": "https://localhost:8080/"
        },
        "id": "6x2xQdauuEsi",
        "outputId": "6cc1fb95-53a3-4500-e508-023e79130b4a"
      },
      "execution_count": 45,
      "outputs": [
        {
          "output_type": "stream",
          "name": "stdout",
          "text": [
            "              precision    recall  f1-score   support\n",
            "\n",
            "           0       1.00      1.00      1.00       257\n",
            "           1       0.92      0.91      0.92       261\n",
            "           2       0.93      0.93      0.93       300\n",
            "           3       0.99      1.00      1.00       250\n",
            "           4       1.00      0.99      0.99       207\n",
            "           5       0.98      0.99      0.99       196\n",
            "\n",
            "    accuracy                           0.97      1471\n",
            "   macro avg       0.97      0.97      0.97      1471\n",
            "weighted avg       0.97      0.97      0.97      1471\n",
            "\n"
          ]
        }
      ]
    },
    {
      "cell_type": "markdown",
      "source": [
        "# XGB BOOST"
      ],
      "metadata": {
        "id": "irSCOlGrxQSn"
      }
    },
    {
      "cell_type": "code",
      "source": [
        "y_pred = knn.predict(x_test)"
      ],
      "metadata": {
        "id": "UaiaO3HQwySv"
      },
      "execution_count": 46,
      "outputs": []
    },
    {
      "cell_type": "code",
      "source": [
        "accuracy_score(y_test_enc, y_pred)"
      ],
      "metadata": {
        "colab": {
          "base_uri": "https://localhost:8080/"
        },
        "id": "-cFZ2aAPxVFb",
        "outputId": "8e4a48af-8a3f-4123-d8da-4110861b1139"
      },
      "execution_count": 48,
      "outputs": [
        {
          "output_type": "execute_result",
          "data": {
            "text/plain": [
              "0.9666893269884432"
            ]
          },
          "metadata": {},
          "execution_count": 48
        }
      ]
    },
    {
      "cell_type": "code",
      "source": [],
      "metadata": {
        "id": "M3wmm6U9xdOo"
      },
      "execution_count": null,
      "outputs": []
    }
  ]
}